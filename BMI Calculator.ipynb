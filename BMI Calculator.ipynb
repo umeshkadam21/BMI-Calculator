{
 "cells": [
  {
   "cell_type": "markdown",
   "id": "ab716993-57c0-4864-aa46-ee9a6470a9fa",
   "metadata": {},
   "source": [
    "# BMI Calculator"
   ]
  },
  {
   "cell_type": "code",
   "execution_count": 3,
   "id": "bbc67bed-bb67-4b6d-85c2-132b0a7efaab",
   "metadata": {},
   "outputs": [
    {
     "name": "stdin",
     "output_type": "stream",
     "text": [
      "Enter your name:  Joe\n",
      "Enter your weight in pounds:  165\n",
      "Enter your height in inches:  69\n"
     ]
    },
    {
     "name": "stdout",
     "output_type": "stream",
     "text": [
      "Your BMI is:  24.363579080025204\n",
      "Joe, You have normal Weight. Maintain it.\n"
     ]
    }
   ],
   "source": [
    "name = input(\"Enter your name: \")\n",
    "\n",
    "weight = int(input(\"Enter your weight in pounds: \"))\n",
    "height = int(input(\"Enter your height in inches: \"))\n",
    "\n",
    "BMI = (weight * 703) / (height * height)\n",
    "\n",
    "print('Your BMI is: ', BMI)\n",
    "\n",
    "if(BMI > 0):\n",
    "    if(BMI < 18.5):\n",
    "        print(name + \", You are underweight.\")\n",
    "    elif(BMI <= 24.9):\n",
    "        print(name + \", You have normal Weight. Maintain it.\")\n",
    "    elif(BMI < 29.9):\n",
    "        print(name + \", You are overweight. You need to exercise more & stop sitting long.\")\n",
    "    elif(BMI < 34.9):\n",
    "        print(name + \", You are obese.\")\n",
    "    elif(BMI < 39.9):\n",
    "        print(name + \", You are severely obese.\")\n",
    "    else:\n",
    "        print(name + \", You are morbidly obese.\")\n",
    "else:\n",
    "    print(\"Enter the valid input.\")"
   ]
  },
  {
   "cell_type": "code",
   "execution_count": null,
   "id": "50aceaf5-eade-4c3b-87c9-95bc66d18ab5",
   "metadata": {},
   "outputs": [],
   "source": []
  },
  {
   "cell_type": "code",
   "execution_count": null,
   "id": "5d31c5f1-e8fd-43ed-b505-09a34ec867d5",
   "metadata": {},
   "outputs": [],
   "source": [
    "#BMI = (weight in pounds x 703) / (height in inches x height in inches)"
   ]
  },
  {
   "cell_type": "code",
   "execution_count": null,
   "id": "7be5eec5-df42-4720-8e7a-79c2da7bc245",
   "metadata": {},
   "outputs": [],
   "source": []
  },
  {
   "cell_type": "code",
   "execution_count": null,
   "id": "e6329057-9165-4c43-9896-1eb5e0a7fcac",
   "metadata": {},
   "outputs": [],
   "source": [
    "# Under 18.5\tUnderweight\tMinimal\n",
    "# 18.5 - 24.9\tNormal Weight\tMinimal\n",
    "# 25 - 29.9\tOverweight\tIncreased\n",
    "# 30 - 34.9\tObese\tHigh\n",
    "# 35 - 39.9\tSeverely Obese\tVery High\n",
    "# 40 and over\tMorbidly Obese\tExtremely High"
   ]
  },
  {
   "cell_type": "code",
   "execution_count": null,
   "id": "8d549976-1bfa-41de-a8f7-e027696f3779",
   "metadata": {},
   "outputs": [],
   "source": []
  },
  {
   "cell_type": "code",
   "execution_count": null,
   "id": "29645aac-8dd2-465a-83c1-06c9ae15d46f",
   "metadata": {},
   "outputs": [],
   "source": []
  }
 ],
 "metadata": {
  "kernelspec": {
   "display_name": "Python 3 (ipykernel)",
   "language": "python",
   "name": "python3"
  },
  "language_info": {
   "codemirror_mode": {
    "name": "ipython",
    "version": 3
   },
   "file_extension": ".py",
   "mimetype": "text/x-python",
   "name": "python",
   "nbconvert_exporter": "python",
   "pygments_lexer": "ipython3",
   "version": "3.13.5"
  }
 },
 "nbformat": 4,
 "nbformat_minor": 5
}
